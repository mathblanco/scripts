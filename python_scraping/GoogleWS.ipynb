{
  "nbformat": 4,
  "nbformat_minor": 0,
  "metadata": {
    "colab": {
      "provenance": []
    },
    "kernelspec": {
      "name": "python3",
      "display_name": "Python 3"
    },
    "language_info": {
      "name": "python"
    }
  },
  "cells": [
    {
      "cell_type": "markdown",
      "source": [
        "#### performing web scraping on a Google search by h3 html tag"
      ],
      "metadata": {
        "id": "5AJX6wHdUsiC"
      }
    },
    {
      "cell_type": "code",
      "source": [
        "from bs4 import BeautifulSoup\n",
        "import requests\n",
        "\n",
        "\n",
        "site = \"https://www.google.com/search?q=\"\n",
        "busca = \"BANANA\"\n",
        "\n",
        "\n",
        "print (\"BUSCA GOOGLE -> \", site + busca)\n",
        "\n",
        "\n",
        "\n",
        "# Coleta os dados do site\n",
        "html = requests.get(site + busca).content\n",
        "\n",
        "\n"
      ],
      "metadata": {
        "colab": {
          "base_uri": "https://localhost:8080/"
        },
        "id": "WWSX32m8Vadp",
        "outputId": "b819c3e1-097d-4ec5-8706-1d7ea91dfead"
      },
      "execution_count": 14,
      "outputs": [
        {
          "output_type": "stream",
          "name": "stdout",
          "text": [
            "BUSCA GOOGLE ->  https://www.google.com/search?q=BANANA\n"
          ]
        }
      ]
    },
    {
      "cell_type": "code",
      "source": [
        "# Formatando os dados\n",
        "dados = BeautifulSoup(html, 'html.parser')\n",
        "#print(dados.prettify())\n",
        "\n",
        "\n",
        "\n",
        "df = dados.find_all(\"h3\") #search (tag)"
      ],
      "metadata": {
        "id": "_eA8B3S4VabN"
      },
      "execution_count": 34,
      "outputs": []
    },
    {
      "cell_type": "code",
      "source": [
        "for t in df:\n",
        "\n",
        "\n",
        "  print(t.text) #resultados da coleta"
      ],
      "metadata": {
        "colab": {
          "base_uri": "https://localhost:8080/"
        },
        "id": "0eF2R9T4VaYZ",
        "outputId": "a38ada75-15a5-40ec-bff1-316fddf25205"
      },
      "execution_count": 31,
      "outputs": [
        {
          "output_type": "stream",
          "name": "stdout",
          "text": [
            "Banana - Wikipedia\n",
            "Banana Republic | Timeless Style for Women, Men, Baby & Home\n",
            "Benefits and health risks of bananas - Medical News Today\n",
            "Banana | Description, History, Cultivation, Nutrition, Benefits, & Facts\n",
            "11 Evidence-Based Health Benefits of Bananas - Healthline\n",
            "All About Bananas | Producers, Where They're Grown & Why They ...\n",
            "Banana - Aggie Horticulture\n",
            "Bananas 101: Nutrition Facts and Health Benefits - Healthline\n",
            "Bananas, raw - FoodData Central - USDA\n"
          ]
        }
      ]
    }
  ]
}