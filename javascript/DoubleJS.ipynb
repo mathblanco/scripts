{
  "nbformat": 4,
  "nbformat_minor": 0,
  "metadata": {
    "colab": {
      "provenance": []
    },
    "kernelspec": {
      "name": "python3",
      "display_name": "Python 3"
    },
    "language_info": {
      "name": "python"
    }
  },
  "cells": [
    {
      "cell_type": "markdown",
      "source": [
        "#I use this Jupyter Notebook to save a solution to an activity I did on the Code Wars website."
      ],
      "metadata": {
        "id": "DNAhInIR8ZTX"
      }
    },
    {
      "cell_type": "code",
      "source": [
        "function contarCaracteresRepetidos(string) {\n",
        "    // Crie um objeto para rastrear a contagem de caracteres\n",
        "    const contagem = {};\n",
        "\n",
        "    // Remova a distinção entre maiúsculas e minúsculas convertendo a string para minúsculas\n",
        "    string = string.toLowerCase();\n",
        "\n",
        "    // Itere sobre a string\n",
        "    for (let i = 0; i < string.length; i++) {\n",
        "        const char = string[i];\n",
        "        // Verifique se o caractere é um caractere alfabético ou um dígito numérico\n",
        "        if (char.match(/[a-z0-9]/)) {\n",
        "            // Se o caractere já estiver no objeto, incremente a contagem\n",
        "            if (contagem[char]) {\n",
        "                contagem[char]++;\n",
        "            } else {\n",
        "                contagem[char] = 1;\n",
        "            }\n",
        "        }\n",
        "    }\n",
        "\n",
        "    // Crie um objeto para rastrear os caracteres repetidos\n",
        "    const caracteresRepetidos = {};\n",
        "\n",
        "    // Itere sobre o objeto de contagem e encontre caracteres repetidos\n",
        "    for (const char in contagem) {\n",
        "        if (contagem[char] > 1) {\n",
        "            caracteresRepetidos[char] = contagem[char];\n",
        "        }\n",
        "    }\n",
        "\n",
        "    return caracteresRepetidos;\n",
        "}\n",
        "\n",
        "// Exemplo de uso:\n",
        "const inputString = \"aAbBCc112233\";\n",
        "const caracteresRepetidos = contarCaracteresRepetidos(inputString);\n",
        "\n",
        "console.log(caracteresRepetidos); // Isso imprimirá um objeto com os caracteres repetidos e suas contagens\n"
      ],
      "metadata": {
        "id": "TRzjgGM98XTV"
      },
      "execution_count": null,
      "outputs": []
    }
  ]
}