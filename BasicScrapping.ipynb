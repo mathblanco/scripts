{
  "nbformat": 4,
  "nbformat_minor": 0,
  "metadata": {
    "colab": {
      "provenance": []
    },
    "kernelspec": {
      "name": "python3",
      "display_name": "Python 3"
    },
    "language_info": {
      "name": "python"
    }
  },
  "cells": [
    {
      "cell_type": "markdown",
      "source": [
        "With Beautiful Soup's library it is possible to create a function capable of scraping a web page"
      ],
      "metadata": {
        "id": "EIbcT6_UaWg3"
      }
    },
    {
      "cell_type": "code",
      "source": [
        "#Beautiful Soup is a the python \"library\" that will allow us to scrap a web page\n",
        "from bs4 import BeautifulSoup # this line makes the library's import\n",
        "import requests # will use other to make requests with our python script\n",
        "\n",
        "\n",
        "def Scrap(URL): #creates a function that will collect all href links given a URL\n",
        "\n",
        "\n",
        "  resp = requests.get(URL)\n",
        "  bs = BeautifulSoup(resp.text, \"lxml\")\n",
        "\n",
        "\n",
        "  urls = set()\n",
        "\n",
        "\n",
        "  for link in bs.find_all('a'):\n",
        "\n",
        "\n",
        "      if link['href'].startswith(URL):\n",
        "          urls.add(link['href'])\n",
        "\n",
        "\n",
        "  urls_scan = []\n",
        "  limit = 0\n",
        "\n",
        "\n",
        "  while True:\n",
        "\n",
        "\n",
        "      if limit == 10:\n",
        "        break\n",
        "\n",
        "\n",
        "      try:\n",
        "          url = urls.pop()\n",
        "\n",
        "\n",
        "      except:\n",
        "          break\n",
        "\n",
        "\n",
        "      else:\n",
        "          if url not in urls_scan:\n",
        "\n",
        "\n",
        "              print (url)\n",
        "              urls_scan.append(url)\n",
        "              resp = requests.get(url)\n",
        "\n",
        "\n",
        "              bs = BeautifulSoup(resp.text, \"lxml\")\n",
        "\n",
        "\n",
        "              for link in bs.find_all('a'): #Performs the search for the desired html tag\n",
        "\n",
        "\n",
        "                  try:\n",
        "\n",
        "\n",
        "                      if link['href'].startswith(URL):\n",
        "\n",
        "\n",
        "                          urls.add(link['href'])\n",
        "\n",
        "\n",
        "                  except:\n",
        "                      pass\n",
        "\n",
        "\n",
        "      limit += 1\n",
        "\n",
        "\n"
      ],
      "metadata": {
        "id": "vJnc1XIwaPQQ"
      },
      "execution_count": null,
      "outputs": []
    },
    {
      "cell_type": "code",
      "source": [
        "# A simple test\n",
        "\n",
        "Scrap(URL='https://www.nytimes.com/')"
      ],
      "metadata": {
        "colab": {
          "base_uri": "https://localhost:8080/"
        },
        "id": "VSctn0EbXjSn",
        "outputId": "3b124e04-7258-495c-ffb2-3878f3b0507e"
      },
      "execution_count": 15,
      "outputs": [
        {
          "output_type": "stream",
          "name": "stdout",
          "text": [
            "https://www.nytimes.com/section/world/africa\n",
            "https://www.nytimes.com/section/science\n",
            "https://www.nytimes.com/audio/app\n",
            "https://www.nytimes.com/2023/10/23/us/ukraine-gaza-global-south-hypocrisy.html\n",
            "https://www.nytimes.com/news-event/2024-election\n",
            "https://www.nytimes.com/section/well/mind\n",
            "https://www.nytimes.com/2023/10/23/opinion/gaza-hamas-hezbollah-iran.html\n",
            "https://www.nytimes.com/section/food\n",
            "https://www.nytimes.com/2023/10/23/world/middleeast/turkey-nato-sweden.html\n",
            "https://www.nytimes.com/column/maureen-dowd\n"
          ]
        }
      ]
    },
    {
      "cell_type": "code",
      "source": [],
      "metadata": {
        "id": "DZk5SYLNaAd8"
      },
      "execution_count": null,
      "outputs": []
    }
  ]
}