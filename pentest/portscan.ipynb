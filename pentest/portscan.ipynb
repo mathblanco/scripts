{
  "nbformat": 4,
  "nbformat_minor": 0,
  "metadata": {
    "colab": {
      "provenance": []
    },
    "kernelspec": {
      "name": "python3",
      "display_name": "Python 3"
    },
    "language_info": {
      "name": "python"
    }
  },
  "cells": [
    {
      "cell_type": "code",
      "execution_count": null,
      "metadata": {
        "id": "1pbbBWKv-icU"
      },
      "outputs": [],
      "source": [
        "import socket\n",
        "\n",
        "\n",
        "host = \"IP\"\n",
        "\n",
        "\n",
        "print(\"Portas Abertas:\")\n",
        "\n",
        "\n",
        "for p in [21, 22, 23, 80]:\n",
        "\n",
        "\n",
        "  sock = socket.socket(socket.AF_INET, socket.SOCK_STREAM)\n",
        "  sock.settimeout(1)\n",
        "\n",
        "\n",
        "  cod = sock.connect_ex((host, p))\n",
        "  sock.close()\n",
        "\n",
        "\n",
        "  if (cod == 0):\n",
        "\n",
        "\n",
        "    print(p)\n",
        "\n",
        "\n",
        "\n"
      ]
    }
  ]
}